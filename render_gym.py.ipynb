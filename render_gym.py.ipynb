{
 "cells": [
  {
   "cell_type": "code",
   "execution_count": null,
   "metadata": {},
   "outputs": [],
   "source": [
    " import gym\n",
    "from IPython import display\n",
    "import matplotlib.pyplot as plt\n",
    "%matplotlib inline\n",
    "\n",
    "env = gym.make('Acrobot-v1')\n",
    "env.reset()\n",
    "for _ in range(1000):\n",
    "    plt.imshow(env.render(mode='rgb_array'))\n",
    "    display.clear_output(wait=True)\n",
    "    display.display(plt.gcf())\n",
    "    env.step(env.action_space.sample())"
   ]
  },
  {
   "cell_type": "code",
   "execution_count": null,
   "metadata": {},
   "outputs": [],
   "source": [
    "env_name = \"Acrobot-v1\"\n",
    "save_path = \"./video_data/sample_prog\"\n",
    "from gym import wrappers\n",
    "import time\n",
    "env = gym.make(env_name)\n",
    "if save_mp4:\n",
    "    env = wrappers.Monitor(env, \"../video_data/sample_prog\",force=True)#, video_callable=(lambda ep: ep % 100 == 0))\n",
    "o = env.reset()\n",
    "\n",
    "done = False\n",
    "\n",
    "for step in range(300): # show 300 frames (=20 sec)\n",
    "    if done:\n",
    "        time.sleep(1) # when the boundary　of eposode\n",
    "        o = env.reset()\n",
    "    if step%3 ==0:\n",
    "        plt.imshow(env.render(mode='rgb_array'))\n",
    "        display.clear_output(wait=True)\n",
    "        display.display(plt.gcf())\n",
    "    ac_real, ac, a_i = pol.deterministic_ac_real(torch.tensor(o, dtype=torch.float))\n",
    "    ac_real = ac_real.reshape(pol.action_space.shape)\n",
    "    next_o, r, done, e_i = env.step(np.array(ac_real))\n",
    "    o = next_o\n",
    "    \n",
    "    "
   ]
  }
 ],
 "metadata": {
  "kernelspec": {
   "display_name": "Environment (conda_machina)",
   "language": "python",
   "name": "conda_machina"
  },
  "language_info": {
   "codemirror_mode": {
    "name": "ipython",
    "version": 3
   },
   "file_extension": ".py",
   "mimetype": "text/x-python",
   "name": "python",
   "nbconvert_exporter": "python",
   "pygments_lexer": "ipython3",
   "version": "3.6.9"
  }
 },
 "nbformat": 4,
 "nbformat_minor": 2
}
